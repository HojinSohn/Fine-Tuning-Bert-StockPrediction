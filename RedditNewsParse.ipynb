{
 "cells": [
  {
   "cell_type": "code",
   "execution_count": 8,
   "id": "7f6b3054",
   "metadata": {},
   "outputs": [
    {
     "name": "stdout",
     "output_type": "stream",
     "text": [
      "             Date                                               News\n",
      "0      2016-07-01  A 117-year-old woman in Mexico City finally re...\n",
      "1      2016-07-01   IMF chief backs Athens as permanent Olympic host\n",
      "2      2016-07-01  The president of France says if Brexit won, so...\n",
      "3      2016-07-01  British Man Who Must Give Police 24 Hours' Not...\n",
      "4      2016-07-01  100+ Nobel laureates urge Greenpeace to stop o...\n",
      "...           ...                                                ...\n",
      "73603  2008-06-08  b'Man goes berzerk in Akihabara and stabs ever...\n",
      "73604  2008-06-08  b'Threat of world AIDS pandemic among heterose...\n",
      "73605  2008-06-08  b'Angst in Ankara: Turkey Steers into a Danger...\n",
      "73606  2008-06-08  b\"UK: Identity cards 'could be used to spy on ...\n",
      "73607  2008-06-08  b'Marriage, they said, was reduced to the stat...\n",
      "\n",
      "[73608 rows x 2 columns]\n"
     ]
    }
   ],
   "source": [
    "import pandas as pd\n",
    "\n",
    "df = pd.read_csv('RedditNews.csv')\n",
    "print(df)"
   ]
  },
  {
   "cell_type": "code",
   "execution_count": 9,
   "id": "b3e7c03b",
   "metadata": {
    "scrolled": true
   },
   "outputs": [
    {
     "name": "stdout",
     "output_type": "stream",
     "text": [
      "             Date                                               News  \\\n",
      "0      2016-07-01  A 117-year-old woman in Mexico City finally re...   \n",
      "1      2016-07-01   IMF chief backs Athens as permanent Olympic host   \n",
      "2      2016-07-01  The president of France says if Brexit won, so...   \n",
      "3      2016-07-01  British Man Who Must Give Police 24 Hours' Not...   \n",
      "4      2016-07-01  100+ Nobel laureates urge Greenpeace to stop o...   \n",
      "...           ...                                                ...   \n",
      "73603  2008-06-08  b'Man goes berzerk in Akihabara and stabs ever...   \n",
      "73604  2008-06-08  b'Threat of world AIDS pandemic among heterose...   \n",
      "73605  2008-06-08  b'Angst in Ankara: Turkey Steers into a Danger...   \n",
      "73606  2008-06-08  b\"UK: Identity cards 'could be used to spy on ...   \n",
      "73607  2008-06-08  b'Marriage, they said, was reduced to the stat...   \n",
      "\n",
      "                                                    text  \n",
      "0      A 117-year-old woman in Mexico City finally re...  \n",
      "1       IMF chief backs Athens as permanent Olympic host  \n",
      "2      The president of France says if Brexit won, so...  \n",
      "3      British Man Who Must Give Police 24 Hours' Not...  \n",
      "4      100+ Nobel laureates urge Greenpeace to stop o...  \n",
      "...                                                  ...  \n",
      "73603  Man goes berzerk in Akihabara and stabs everyo...  \n",
      "73604  Threat of world AIDS pandemic among heterosexu...  \n",
      "73605  Angst in Ankara: Turkey Steers into a Dangerou...  \n",
      "73606  UK: Identity cards 'could be used to spy on pe...  \n",
      "73607  Marriage, they said, was reduced to the status...  \n",
      "\n",
      "[73608 rows x 3 columns]\n"
     ]
    }
   ],
   "source": [
    "import re\n",
    "def clean_text(text):\n",
    "    match = re.search(r\"b'(.*?)'\", text)\n",
    "\n",
    "    if match:\n",
    "        extracted_text = match.group(1)\n",
    "        text = extracted_text \n",
    "        \n",
    "    match = re.search(r'b\"(.*?)\"', text)\n",
    "\n",
    "    if match:\n",
    "        extracted_text = match.group(1)\n",
    "        text = extracted_text \n",
    "        \n",
    "    return text\n",
    "\n",
    "df['text'] = df['News'].apply(clean_text)\n",
    "print(df)"
   ]
  },
  {
   "cell_type": "code",
   "execution_count": 11,
   "id": "9a3ae302",
   "metadata": {},
   "outputs": [
    {
     "name": "stdout",
     "output_type": "stream",
     "text": [
      "            Date         Close          High           Low          Open  \\\n",
      "0     2008-06-09  12280.320312  12331.860352  12195.320312  12210.129883   \n",
      "1     2008-06-10  12289.759766  12369.230469  12206.959961  12277.709961   \n",
      "2     2008-06-11  12083.769531  12286.669922  12079.129883  12286.339844   \n",
      "3     2008-06-12  12141.580078  12269.240234  12076.929688  12089.629883   \n",
      "4     2008-06-13  12307.349609  12310.280273  12144.589844  12144.589844   \n",
      "...          ...           ...           ...           ...           ...   \n",
      "2026  2016-06-24  17400.750000  17946.630859  17356.339844  17946.630859   \n",
      "2027  2016-06-27  17140.240234  17355.210938  17063.080078  17355.210938   \n",
      "2028  2016-06-28  17409.720703  17409.720703  17190.509766  17190.509766   \n",
      "2029  2016-06-29  17694.679688  17704.509766  17456.019531  17456.019531   \n",
      "2030  2016-06-30  17929.990234  17930.609375  17711.800781  17712.759766   \n",
      "\n",
      "         Volume  \n",
      "0     266350000  \n",
      "1     240760000  \n",
      "2     247120000  \n",
      "3     260960000  \n",
      "4     247980000  \n",
      "...         ...  \n",
      "2026  239000000  \n",
      "2027  138740000  \n",
      "2028  112190000  \n",
      "2029  106380000  \n",
      "2030  133030000  \n",
      "\n",
      "[2031 rows x 6 columns]\n"
     ]
    }
   ],
   "source": [
    "dji_stock_price_df = pd.read_csv(\"DJI_stock_data.csv\")\n",
    "print(dji_stock_price_df)"
   ]
  },
  {
   "cell_type": "code",
   "execution_count": 12,
   "id": "c398cdf7",
   "metadata": {},
   "outputs": [
    {
     "name": "stdout",
     "output_type": "stream",
     "text": [
      "             Date                                               News  \\\n",
      "0      2016-06-30  Jamaica proposes marijuana dispensers for tour...   \n",
      "1      2016-06-30  Stephen Hawking says pollution and 'stupidity'...   \n",
      "2      2016-06-30  Boris Johnson says he will not run for Tory pa...   \n",
      "3      2016-06-30  Six gay men in Ivory Coast were abused and for...   \n",
      "4      2016-06-30  Switzerland denies citizenship to Muslim immig...   \n",
      "...           ...                                                ...   \n",
      "50763  2008-06-09  b'Future of the United States of Europe in the...   \n",
      "50764  2008-06-09  b\"'Military coup' in Zimbabwe as Mugabe is for...   \n",
      "50765  2008-06-09  b'Rising Oil Prices Spark Strikes in Spain and...   \n",
      "50766  2008-06-09  b'Chvez to FARC: Asks to end armed strugle, \"T...   \n",
      "50767  2008-06-09       b'Fliers in for pain as airlines pack it in'   \n",
      "\n",
      "                                                    text         Close  \\\n",
      "0      Jamaica proposes marijuana dispensers for tour...  17929.990234   \n",
      "1      Stephen Hawking says pollution and 'stupidity'...  17929.990234   \n",
      "2      Boris Johnson says he will not run for Tory pa...  17929.990234   \n",
      "3      Six gay men in Ivory Coast were abused and for...  17929.990234   \n",
      "4      Switzerland denies citizenship to Muslim immig...  17929.990234   \n",
      "...                                                  ...           ...   \n",
      "50763  Future of the United States of Europe in the H...  12280.320312   \n",
      "50764  'Military coup' in Zimbabwe as Mugabe is force...  12280.320312   \n",
      "50765  Rising Oil Prices Spark Strikes in Spain and a...  12280.320312   \n",
      "50766  Chvez to FARC: Asks to end armed strugle, \"The...  12280.320312   \n",
      "50767          Fliers in for pain as airlines pack it in  12280.320312   \n",
      "\n",
      "               High           Low          Open     Volume  Close_diff  \\\n",
      "0      17930.609375  17711.800781  17712.759766  133030000         NaN   \n",
      "1      17930.609375  17711.800781  17712.759766  133030000         NaN   \n",
      "2      17930.609375  17711.800781  17712.759766  133030000         NaN   \n",
      "3      17930.609375  17711.800781  17712.759766  133030000         NaN   \n",
      "4      17930.609375  17711.800781  17712.759766  133030000         NaN   \n",
      "...             ...           ...           ...        ...         ...   \n",
      "50763  12331.860352  12195.320312  12210.129883  266350000    9.439453   \n",
      "50764  12331.860352  12195.320312  12210.129883  266350000    9.439453   \n",
      "50765  12331.860352  12195.320312  12210.129883  266350000    9.439453   \n",
      "50766  12331.860352  12195.320312  12210.129883  266350000    9.439453   \n",
      "50767  12331.860352  12195.320312  12210.129883  266350000    9.439453   \n",
      "\n",
      "       High_diff   Low_diff  Open_diff  Open_Close_diff  \n",
      "0            NaN        NaN        NaN       217.230469  \n",
      "1            NaN        NaN        NaN       217.230469  \n",
      "2            NaN        NaN        NaN       217.230469  \n",
      "3            NaN        NaN        NaN       217.230469  \n",
      "4            NaN        NaN        NaN       217.230469  \n",
      "...          ...        ...        ...              ...  \n",
      "50763  37.370117  11.639648  67.580078        70.190430  \n",
      "50764  37.370117  11.639648  67.580078        70.190430  \n",
      "50765  37.370117  11.639648  67.580078        70.190430  \n",
      "50766  37.370117  11.639648  67.580078        70.190430  \n",
      "50767  37.370117  11.639648  67.580078        70.190430  \n",
      "\n",
      "[50768 rows x 13 columns]\n"
     ]
    }
   ],
   "source": [
    "dji_stock_price_df = pd.read_csv(\"DJI_stock_data.csv\")\n",
    "dji_stock_price_df['Close_diff'] = dji_stock_price_df['Close'].shift(-1) - dji_stock_price_df['Close']\n",
    "dji_stock_price_df['High_diff'] = dji_stock_price_df['High'].shift(-1) - dji_stock_price_df['High']\n",
    "dji_stock_price_df['Low_diff'] = dji_stock_price_df['Low'].shift(-1) - dji_stock_price_df['Low']\n",
    "dji_stock_price_df['Open_diff'] = dji_stock_price_df['Open'].shift(-1) - dji_stock_price_df['Open']\n",
    "dji_stock_price_df['Open_Close_diff'] = dji_stock_price_df['Close'] - dji_stock_price_df['Open']\n",
    "\n",
    "data_df = pd.merge(df, dji_stock_price_df, on='Date', how='inner')  \n",
    "print(data_df)"
   ]
  },
  {
   "cell_type": "code",
   "execution_count": 13,
   "id": "505c1dfe",
   "metadata": {},
   "outputs": [],
   "source": [
    "data_df.drop('News', axis=1, inplace=True)"
   ]
  },
  {
   "cell_type": "code",
   "execution_count": 14,
   "id": "9f051b23",
   "metadata": {},
   "outputs": [
    {
     "name": "stdout",
     "output_type": "stream",
     "text": [
      "             Date                                               text  \\\n",
      "0      2016-06-30  Jamaica proposes marijuana dispensers for tour...   \n",
      "1      2016-06-30  Stephen Hawking says pollution and 'stupidity'...   \n",
      "2      2016-06-30  Boris Johnson says he will not run for Tory pa...   \n",
      "3      2016-06-30  Six gay men in Ivory Coast were abused and for...   \n",
      "4      2016-06-30  Switzerland denies citizenship to Muslim immig...   \n",
      "...           ...                                                ...   \n",
      "50763  2008-06-09  Future of the United States of Europe in the H...   \n",
      "50764  2008-06-09  'Military coup' in Zimbabwe as Mugabe is force...   \n",
      "50765  2008-06-09  Rising Oil Prices Spark Strikes in Spain and a...   \n",
      "50766  2008-06-09  Chvez to FARC: Asks to end armed strugle, \"The...   \n",
      "50767  2008-06-09          Fliers in for pain as airlines pack it in   \n",
      "\n",
      "              Close          High           Low          Open     Volume  \\\n",
      "0      17929.990234  17930.609375  17711.800781  17712.759766  133030000   \n",
      "1      17929.990234  17930.609375  17711.800781  17712.759766  133030000   \n",
      "2      17929.990234  17930.609375  17711.800781  17712.759766  133030000   \n",
      "3      17929.990234  17930.609375  17711.800781  17712.759766  133030000   \n",
      "4      17929.990234  17930.609375  17711.800781  17712.759766  133030000   \n",
      "...             ...           ...           ...           ...        ...   \n",
      "50763  12280.320312  12331.860352  12195.320312  12210.129883  266350000   \n",
      "50764  12280.320312  12331.860352  12195.320312  12210.129883  266350000   \n",
      "50765  12280.320312  12331.860352  12195.320312  12210.129883  266350000   \n",
      "50766  12280.320312  12331.860352  12195.320312  12210.129883  266350000   \n",
      "50767  12280.320312  12331.860352  12195.320312  12210.129883  266350000   \n",
      "\n",
      "       Close_diff  High_diff   Low_diff  Open_diff  Open_Close_diff  \n",
      "0             NaN        NaN        NaN        NaN       217.230469  \n",
      "1             NaN        NaN        NaN        NaN       217.230469  \n",
      "2             NaN        NaN        NaN        NaN       217.230469  \n",
      "3             NaN        NaN        NaN        NaN       217.230469  \n",
      "4             NaN        NaN        NaN        NaN       217.230469  \n",
      "...           ...        ...        ...        ...              ...  \n",
      "50763    9.439453  37.370117  11.639648  67.580078        70.190430  \n",
      "50764    9.439453  37.370117  11.639648  67.580078        70.190430  \n",
      "50765    9.439453  37.370117  11.639648  67.580078        70.190430  \n",
      "50766    9.439453  37.370117  11.639648  67.580078        70.190430  \n",
      "50767    9.439453  37.370117  11.639648  67.580078        70.190430  \n",
      "\n",
      "[50768 rows x 12 columns]\n"
     ]
    }
   ],
   "source": [
    "print(data_df)"
   ]
  },
  {
   "cell_type": "code",
   "execution_count": 15,
   "id": "86c7355b",
   "metadata": {},
   "outputs": [],
   "source": [
    "data_df.to_csv('train_data.csv', index=False)"
   ]
  },
  {
   "cell_type": "code",
   "execution_count": 21,
   "id": "5d437a02",
   "metadata": {},
   "outputs": [
    {
     "name": "stdout",
     "output_type": "stream",
     "text": [
      "             Date                                               text  \\\n",
      "83     2016-06-27  Weapons shipped into Jordan by the CIA and Sau...   \n",
      "116    2016-06-24  $70 billion wiped off the Australian sharemark...   \n",
      "502    2016-06-02  Germanys second largest supermarket chain, Rew...   \n",
      "521    2016-06-02  Environmentalists plan fierce battle against B...   \n",
      "643    2016-05-25  Corporate Beer Overlords Will Soon Own 1 Out o...   \n",
      "...           ...                                                ...   \n",
      "49880  2008-07-29  Hijackers made off with boxes of blank British...   \n",
      "49966  2008-07-24  oil market investigation, regulators bring law...   \n",
      "50412  2008-06-27  EU forces market trader to pulp thousands of k...   \n",
      "50615  2008-06-17  BREAKING: Car bomb kills more than 50 Iraqis i...   \n",
      "50630  2008-06-16  We are very happy with the food crisis. Why? B...   \n",
      "\n",
      "              Close          High           Low          Open     Volume  \\\n",
      "83     17140.240234  17355.210938  17063.080078  17355.210938  138740000   \n",
      "116    17400.750000  17946.630859  17356.339844  17946.630859  239000000   \n",
      "502    17838.560547  17838.560547  17703.550781  17789.050781   75560000   \n",
      "521    17838.560547  17838.560547  17703.550781  17789.050781   75560000   \n",
      "643    17851.509766  17891.710938  17735.089844  17735.089844   79180000   \n",
      "...             ...           ...           ...           ...        ...   \n",
      "49880  11397.559570  11398.379883  11128.059570  11133.440430  206930000   \n",
      "49966  11349.280273  11634.490234  11345.370117  11630.339844  241140000   \n",
      "50412  11346.509766  11485.250000  11297.990234  11452.849609  338250000   \n",
      "50615  12160.299805  12322.820312  12150.290039  12269.650391  174690000   \n",
      "50630  12269.080078  12319.719727  12212.250000  12306.860352  222140000   \n",
      "\n",
      "       Close_diff   High_diff    Low_diff   Open_diff  Open_Close_diff  \n",
      "83     269.480469   54.509766  127.429688 -164.701172      -214.970703  \n",
      "116   -260.509766 -591.419922 -293.259766 -591.419922      -545.880859  \n",
      "502    -31.500000   -5.390625  -13.871094   10.750000        49.509766  \n",
      "521    -31.500000   -5.390625  -13.871094   10.750000        49.509766  \n",
      "643    -23.220703   -3.050781   68.730469  124.429688       116.419922  \n",
      "...           ...         ...         ...         ...              ...  \n",
      "49880  186.130859  188.240234  269.500000  264.119141       264.119141  \n",
      "49966   21.410156 -190.680664  -20.270508 -289.200195      -281.059570  \n",
      "50412    3.500000  -47.950195  -10.430664 -107.149414      -106.339844  \n",
      "50615 -131.240234 -164.140625 -156.650391 -110.970703      -109.350586  \n",
      "50630 -108.780273    3.100586  -61.959961  -37.209961       -37.780273  \n",
      "\n",
      "[278 rows x 12 columns]\n"
     ]
    }
   ],
   "source": [
    "num_rows = data_df[data_df['text'].str.contains(\"market\", na=False)]\n",
    "\n",
    "print(num_rows)"
   ]
  },
  {
   "cell_type": "code",
   "execution_count": null,
   "id": "66779e05",
   "metadata": {},
   "outputs": [],
   "source": []
  }
 ],
 "metadata": {
  "kernelspec": {
   "display_name": "SentimentAnalysis",
   "language": "python",
   "name": "sentimentanalysis"
  },
  "language_info": {
   "codemirror_mode": {
    "name": "ipython",
    "version": 3
   },
   "file_extension": ".py",
   "mimetype": "text/x-python",
   "name": "python",
   "nbconvert_exporter": "python",
   "pygments_lexer": "ipython3",
   "version": "3.11.11"
  }
 },
 "nbformat": 4,
 "nbformat_minor": 5
}
